{
 "cells": [
  {
   "cell_type": "markdown",
   "metadata": {},
   "source": [
    "### Create epochs based on expert annonations \n",
    " - Geletaw Sahle Tegenaw(Ph.D), Norman Delanty (Prof), Tomas Ward (Prof)\n",
    "\n",
    "\n"
   ]
  },
  {
   "cell_type": "code",
   "execution_count": 1,
   "metadata": {},
   "outputs": [],
   "source": [
    "import os\n",
    "import mne\n",
    "import pandas as pd\n",
    "import numpy as np\n",
    "from mne import Epochs\n",
    "from typing import List, Tuple"
   ]
  },
  {
   "cell_type": "code",
   "execution_count": 2,
   "metadata": {},
   "outputs": [],
   "source": [
    "def create_epochs_from_folder(folder_path, save_folder=\"/home/min/Desktop/eegllm/RawEEG_Updated/processed_epochs\"):\n",
    "    \"\"\"\n",
    "    Create and save epochs from all .fif files in a folder based on annotations.\n",
    "\n",
    "    Parameters:\n",
    "        folder_path : str\n",
    "            Path to the folder containing raw .fif files with annotations.\n",
    "        save_folder : str\n",
    "            Folder to save the processed epoch files.\n",
    "    \"\"\"\n",
    "    # os.makedirs(save_folder, exist_ok=True)\n",
    "\n",
    "    fif_files = [f for f in os.listdir(folder_path) if f.endswith(\".fif\")]\n",
    "\n",
    "    if not fif_files:\n",
    "        print(\"No .fif files found in the specified folder.\")\n",
    "        return\n",
    "\n",
    "    for fif_file in fif_files:\n",
    "        raw_filepath = os.path.join(folder_path, fif_file)\n",
    "        print(f\"Processing file: {fif_file}\")\n",
    "\n",
    "        try:\n",
    "            raw = mne.io.read_raw_fif(raw_filepath, preload=True)\n",
    "\n",
    "            # Create events from annotations\n",
    "            event_id = {'S': 1, 'NS': 2, 'D': 3}\n",
    "            events, event_id_map = mne.events_from_annotations(raw, event_id=event_id)\n",
    "\n",
    "            # Epoch parameters\n",
    "            sfreq = raw.info['sfreq']\n",
    "            tmin = 0.0\n",
    "            tmax = (sfreq - 1) / sfreq\n",
    "            baseline = None\n",
    "\n",
    "            # Create epochs\n",
    "            epochs = mne.Epochs(raw, events=events, event_id=event_id,\n",
    "                                tmin=tmin, tmax=tmax, baseline=baseline,\n",
    "                                preload=True)\n",
    "\n",
    "            # Save using same base name\n",
    "            base_filename = os.path.splitext(fif_file)[0]\n",
    "            save_path = os.path.join(save_folder, f\"{base_filename}_epo.fif\")\n",
    "            epochs.save(save_path, overwrite=True)\n",
    "            print(f\"✅ Saved epochs: {save_path}\\n\")\n",
    "\n",
    "        except Exception as e:\n",
    "            print(f\"❌ Failed to process {fif_file}: {e}\\n\")\n",
    "\n",
    "\n",
    "# def create_epochs_from_annotations(raw):\n",
    "#     \"\"\"\n",
    "#      Create epochs from annotations in the raw EEG data.\n",
    "#     \"\"\"\n",
    "#     # 1. Create events from annotations\n",
    "#     event_id = {'S': 1, 'NS': 2, 'D': 3}  # Map your annotation labels to integers\n",
    "#     events, event_id_map = mne.events_from_annotations(raw, event_id=event_id)\n",
    " \n",
    "#     # 2. Define epoch parameters\n",
    "#     sfreq = raw.info['sfreq']\n",
    "#     tmin = 0.0   # Start of each epoch (0 since annotation is aligned with onset)\n",
    "#     tmax = (sfreq-1)/sfreq  \n",
    "#     baseline = None  # You can set to (None, 0) if you want baseline correction\n",
    "\n",
    "#     # 3. Create epochs\n",
    "#     epochs = mne.Epochs(raw, events=events, event_id=event_id,\n",
    "#                         tmin=tmin, tmax=tmax, baseline=baseline,\n",
    "#                         preload=True)\n",
    "\n",
    "#     # 4. Save the epochs in .fif format (MNE’s native)\n",
    "#     epochs_fif_path = 'annotated_epochs.fif'\n",
    "#     epochs.save(epochs_fif_path, overwrite=True)\n",
    "\n",
    "#     # Optional: save in EEGLAB .set format if needed\n",
    "#     eeglab_set_path = 'annotated_epochs.set'\n",
    "#     mne.export.export_epochs(eeglab_set_path, epochs=epochs, fmt='eeglab', overwrite=True)\n",
    "\n",
    "#     print(\"✅ Epochs saved in both .fif and .set format.\")\n",
    "#     return epochs\n",
    "def load_epochs(file_path: str, format: str = 'fif') -> mne.Epochs:\n",
    "    \"\"\"\n",
    "    Load epochs from a .fif or .set file.\n",
    "\n",
    "    Parameters:\n",
    "        file_path (str): Path to the epochs file.\n",
    "        format (str): 'fif' (MNE format) or 'set' (EEGLAB format)\n",
    "\n",
    "    Returns:\n",
    "        mne.Epochs: The loaded epochs object.\n",
    "    \"\"\"\n",
    "    if format == 'fif':\n",
    "        return mne.read_epochs(file_path, preload=True)\n",
    "    elif format == 'set':\n",
    "        return mne.io.read_epochs_eeglab(file_path, preload=True)\n",
    "    else:\n",
    "        raise ValueError(\"Unsupported format. Use 'fif' or 'set'.\")\n",
    "\n",
    "def filter_epochs(epochs: mne.Epochs, keep_labels: List[str]) -> Tuple[np.ndarray, np.ndarray]:\n",
    "    \"\"\"\n",
    "    Filter epochs based on annotation labels and return data and labels.\n",
    "\n",
    "    Parameters:\n",
    "        epochs (mne.Epochs): The full epochs object.\n",
    "        keep_labels (List[str]): List of annotation labels to keep (e.g., ['S', 'NS'])\n",
    "\n",
    "    Returns:\n",
    "        Tuple[np.ndarray, np.ndarray]: (data, labels)\n",
    "            - data shape: (n_epochs, n_channels, n_times)\n",
    "            - labels: 1D array of integer labels\n",
    "    \"\"\"\n",
    "    filtered_epochs = epochs[keep_labels]\n",
    "    data = filtered_epochs.get_data()\n",
    "    labels = filtered_epochs.events[:, -1]  # integer event ID\n",
    "    return data, labels"
   ]
  },
  {
   "cell_type": "code",
   "execution_count": 3,
   "metadata": {},
   "outputs": [
    {
     "name": "stdout",
     "output_type": "stream",
     "text": [
      "Processing file: eeg51.fif\n",
      "Opening raw data file /home/min/Desktop/eegllm/RawEEG_Updated/updated_annotations_with_d/eeg51.fif...\n",
      "Isotrak not found\n",
      "    Range : 0 ... 300863 =      0.000 ...  4700.984 secs\n",
      "Ready.\n",
      "Reading 0 ... 300863  =      0.000 ...  4700.984 secs...\n",
      "Used Annotations descriptions: [np.str_('D'), np.str_('NS'), np.str_('S')]\n",
      "Not setting metadata\n",
      "4702 matching events found\n",
      "No baseline correction applied\n",
      "0 projection items activated\n",
      "Using data from preloaded Raw for 4702 events and 64 original time points ...\n"
     ]
    },
    {
     "name": "stderr",
     "output_type": "stream",
     "text": [
      "/tmp/ipykernel_265/201679259.py:24: RuntimeWarning: This filename (/home/min/Desktop/eegllm/RawEEG_Updated/updated_annotations_with_d/eeg51.fif) does not conform to MNE naming conventions. All raw files should end with raw.fif, raw_sss.fif, raw_tsss.fif, _meg.fif, _eeg.fif, _ieeg.fif, raw.fif.gz, raw_sss.fif.gz, raw_tsss.fif.gz, _meg.fif.gz, _eeg.fif.gz or _ieeg.fif.gz\n",
      "  raw = mne.io.read_raw_fif(raw_filepath, preload=True)\n"
     ]
    },
    {
     "name": "stdout",
     "output_type": "stream",
     "text": [
      "1 bad epochs dropped\n",
      "✅ Saved epochs: /home/min/Desktop/eegllm/RawEEG_Updated/processed_epochs/eeg51_epo.fif\n",
      "\n",
      "Processing file: eeg19.fif\n",
      "Opening raw data file /home/min/Desktop/eegllm/RawEEG_Updated/updated_annotations_with_d/eeg19.fif...\n",
      "Isotrak not found\n",
      "    Range : 0 ... 576383 =      0.000 ...  9005.984 secs\n",
      "Ready.\n",
      "Reading 0 ... 576383  =      0.000 ...  9005.984 secs...\n",
      "Used Annotations descriptions: [np.str_('D'), np.str_('NS'), np.str_('S')]\n"
     ]
    },
    {
     "name": "stderr",
     "output_type": "stream",
     "text": [
      "/tmp/ipykernel_265/201679259.py:24: RuntimeWarning: This filename (/home/min/Desktop/eegllm/RawEEG_Updated/updated_annotations_with_d/eeg19.fif) does not conform to MNE naming conventions. All raw files should end with raw.fif, raw_sss.fif, raw_tsss.fif, _meg.fif, _eeg.fif, _ieeg.fif, raw.fif.gz, raw_sss.fif.gz, raw_tsss.fif.gz, _meg.fif.gz, _eeg.fif.gz or _ieeg.fif.gz\n",
      "  raw = mne.io.read_raw_fif(raw_filepath, preload=True)\n"
     ]
    },
    {
     "name": "stdout",
     "output_type": "stream",
     "text": [
      "Not setting metadata\n",
      "9007 matching events found\n",
      "No baseline correction applied\n",
      "0 projection items activated\n",
      "Using data from preloaded Raw for 9007 events and 64 original time points ...\n",
      "1 bad epochs dropped\n",
      "✅ Saved epochs: /home/min/Desktop/eegllm/RawEEG_Updated/processed_epochs/eeg19_epo.fif\n",
      "\n",
      "Processing file: eeg14.fif\n",
      "Opening raw data file /home/min/Desktop/eegllm/RawEEG_Updated/updated_annotations_with_d/eeg14.fif...\n",
      "Isotrak not found\n",
      "    Range : 0 ... 238463 =      0.000 ...  3725.984 secs\n",
      "Ready.\n",
      "Reading 0 ... 238463  =      0.000 ...  3725.984 secs...\n",
      "Used Annotations descriptions: [np.str_('D'), np.str_('NS'), np.str_('S')]\n",
      "Not setting metadata\n",
      "3727 matching events found\n",
      "No baseline correction applied\n",
      "0 projection items activated\n",
      "Using data from preloaded Raw for 3727 events and 64 original time points ...\n"
     ]
    },
    {
     "name": "stderr",
     "output_type": "stream",
     "text": [
      "/tmp/ipykernel_265/201679259.py:24: RuntimeWarning: This filename (/home/min/Desktop/eegllm/RawEEG_Updated/updated_annotations_with_d/eeg14.fif) does not conform to MNE naming conventions. All raw files should end with raw.fif, raw_sss.fif, raw_tsss.fif, _meg.fif, _eeg.fif, _ieeg.fif, raw.fif.gz, raw_sss.fif.gz, raw_tsss.fif.gz, _meg.fif.gz, _eeg.fif.gz or _ieeg.fif.gz\n",
      "  raw = mne.io.read_raw_fif(raw_filepath, preload=True)\n"
     ]
    },
    {
     "name": "stdout",
     "output_type": "stream",
     "text": [
      "1 bad epochs dropped\n",
      "✅ Saved epochs: /home/min/Desktop/eegllm/RawEEG_Updated/processed_epochs/eeg14_epo.fif\n",
      "\n",
      "Processing file: eeg9.fif\n",
      "Opening raw data file /home/min/Desktop/eegllm/RawEEG_Updated/updated_annotations_with_d/eeg9.fif...\n",
      "Isotrak not found\n",
      "    Range : 0 ... 227199 =      0.000 ...  3549.984 secs\n",
      "Ready.\n",
      "Reading 0 ... 227199  =      0.000 ...  3549.984 secs...\n",
      "Used Annotations descriptions: [np.str_('D'), np.str_('NS'), np.str_('S')]\n",
      "Not setting metadata\n",
      "3551 matching events found\n",
      "No baseline correction applied\n",
      "0 projection items activated\n",
      "Using data from preloaded Raw for 3551 events and 64 original time points ...\n",
      "1 bad epochs dropped\n"
     ]
    },
    {
     "name": "stderr",
     "output_type": "stream",
     "text": [
      "/tmp/ipykernel_265/201679259.py:24: RuntimeWarning: This filename (/home/min/Desktop/eegllm/RawEEG_Updated/updated_annotations_with_d/eeg9.fif) does not conform to MNE naming conventions. All raw files should end with raw.fif, raw_sss.fif, raw_tsss.fif, _meg.fif, _eeg.fif, _ieeg.fif, raw.fif.gz, raw_sss.fif.gz, raw_tsss.fif.gz, _meg.fif.gz, _eeg.fif.gz or _ieeg.fif.gz\n",
      "  raw = mne.io.read_raw_fif(raw_filepath, preload=True)\n"
     ]
    },
    {
     "name": "stdout",
     "output_type": "stream",
     "text": [
      "✅ Saved epochs: /home/min/Desktop/eegllm/RawEEG_Updated/processed_epochs/eeg9_epo.fif\n",
      "\n",
      "Processing file: eeg4.fif\n",
      "Opening raw data file /home/min/Desktop/eegllm/RawEEG_Updated/updated_annotations_with_d/eeg4.fif...\n",
      "Isotrak not found\n",
      "    Range : 0 ... 219199 =      0.000 ...  3424.984 secs\n",
      "Ready.\n",
      "Reading 0 ... 219199  =      0.000 ...  3424.984 secs...\n",
      "Used Annotations descriptions: [np.str_('D'), np.str_('NS'), np.str_('S')]\n",
      "Not setting metadata\n",
      "3426 matching events found\n",
      "No baseline correction applied\n",
      "0 projection items activated\n",
      "Using data from preloaded Raw for 3426 events and 64 original time points ...\n",
      "1 bad epochs dropped\n"
     ]
    },
    {
     "name": "stderr",
     "output_type": "stream",
     "text": [
      "/tmp/ipykernel_265/201679259.py:24: RuntimeWarning: This filename (/home/min/Desktop/eegllm/RawEEG_Updated/updated_annotations_with_d/eeg4.fif) does not conform to MNE naming conventions. All raw files should end with raw.fif, raw_sss.fif, raw_tsss.fif, _meg.fif, _eeg.fif, _ieeg.fif, raw.fif.gz, raw_sss.fif.gz, raw_tsss.fif.gz, _meg.fif.gz, _eeg.fif.gz or _ieeg.fif.gz\n",
      "  raw = mne.io.read_raw_fif(raw_filepath, preload=True)\n"
     ]
    },
    {
     "name": "stdout",
     "output_type": "stream",
     "text": [
      "✅ Saved epochs: /home/min/Desktop/eegllm/RawEEG_Updated/processed_epochs/eeg4_epo.fif\n",
      "\n",
      "Processing file: eeg25.fif\n",
      "Opening raw data file /home/min/Desktop/eegllm/RawEEG_Updated/updated_annotations_with_d/eeg25.fif...\n",
      "Isotrak not found\n",
      "    Range : 0 ... 429375 =      0.000 ...  6708.984 secs\n",
      "Ready.\n",
      "Reading 0 ... 429375  =      0.000 ...  6708.984 secs...\n",
      "Used Annotations descriptions: [np.str_('D'), np.str_('NS'), np.str_('S')]\n",
      "Not setting metadata\n",
      "6710 matching events found\n",
      "No baseline correction applied\n",
      "0 projection items activated\n",
      "Using data from preloaded Raw for 6710 events and 64 original time points ...\n"
     ]
    },
    {
     "name": "stderr",
     "output_type": "stream",
     "text": [
      "/tmp/ipykernel_265/201679259.py:24: RuntimeWarning: This filename (/home/min/Desktop/eegllm/RawEEG_Updated/updated_annotations_with_d/eeg25.fif) does not conform to MNE naming conventions. All raw files should end with raw.fif, raw_sss.fif, raw_tsss.fif, _meg.fif, _eeg.fif, _ieeg.fif, raw.fif.gz, raw_sss.fif.gz, raw_tsss.fif.gz, _meg.fif.gz, _eeg.fif.gz or _ieeg.fif.gz\n",
      "  raw = mne.io.read_raw_fif(raw_filepath, preload=True)\n"
     ]
    },
    {
     "name": "stdout",
     "output_type": "stream",
     "text": [
      "1 bad epochs dropped\n",
      "✅ Saved epochs: /home/min/Desktop/eegllm/RawEEG_Updated/processed_epochs/eeg25_epo.fif\n",
      "\n",
      "Processing file: eeg73.fif\n",
      "Opening raw data file /home/min/Desktop/eegllm/RawEEG_Updated/updated_annotations_with_d/eeg73.fif...\n",
      "Isotrak not found\n",
      "    Range : 0 ... 238719 =      0.000 ...  3729.984 secs\n",
      "Ready.\n",
      "Reading 0 ... 238719  =      0.000 ...  3729.984 secs...\n",
      "Used Annotations descriptions: [np.str_('D'), np.str_('NS'), np.str_('S')]\n",
      "Not setting metadata\n",
      "3731 matching events found\n",
      "No baseline correction applied\n",
      "0 projection items activated\n",
      "Using data from preloaded Raw for 3731 events and 64 original time points ...\n"
     ]
    },
    {
     "name": "stderr",
     "output_type": "stream",
     "text": [
      "/tmp/ipykernel_265/201679259.py:24: RuntimeWarning: This filename (/home/min/Desktop/eegllm/RawEEG_Updated/updated_annotations_with_d/eeg73.fif) does not conform to MNE naming conventions. All raw files should end with raw.fif, raw_sss.fif, raw_tsss.fif, _meg.fif, _eeg.fif, _ieeg.fif, raw.fif.gz, raw_sss.fif.gz, raw_tsss.fif.gz, _meg.fif.gz, _eeg.fif.gz or _ieeg.fif.gz\n",
      "  raw = mne.io.read_raw_fif(raw_filepath, preload=True)\n"
     ]
    },
    {
     "name": "stdout",
     "output_type": "stream",
     "text": [
      "1 bad epochs dropped\n",
      "✅ Saved epochs: /home/min/Desktop/eegllm/RawEEG_Updated/processed_epochs/eeg73_epo.fif\n",
      "\n",
      "Processing file: eeg11.fif\n",
      "Opening raw data file /home/min/Desktop/eegllm/RawEEG_Updated/updated_annotations_with_d/eeg11.fif...\n",
      "Isotrak not found\n",
      "    Range : 0 ... 479231 =      0.000 ...  7487.984 secs\n",
      "Ready.\n",
      "Reading 0 ... 479231  =      0.000 ...  7487.984 secs...\n",
      "Used Annotations descriptions: [np.str_('D'), np.str_('NS'), np.str_('S')]\n",
      "Not setting metadata\n",
      "7489 matching events found\n",
      "No baseline correction applied\n",
      "0 projection items activated\n",
      "Using data from preloaded Raw for 7489 events and 64 original time points ...\n"
     ]
    },
    {
     "name": "stderr",
     "output_type": "stream",
     "text": [
      "/tmp/ipykernel_265/201679259.py:24: RuntimeWarning: This filename (/home/min/Desktop/eegllm/RawEEG_Updated/updated_annotations_with_d/eeg11.fif) does not conform to MNE naming conventions. All raw files should end with raw.fif, raw_sss.fif, raw_tsss.fif, _meg.fif, _eeg.fif, _ieeg.fif, raw.fif.gz, raw_sss.fif.gz, raw_tsss.fif.gz, _meg.fif.gz, _eeg.fif.gz or _ieeg.fif.gz\n",
      "  raw = mne.io.read_raw_fif(raw_filepath, preload=True)\n"
     ]
    },
    {
     "name": "stdout",
     "output_type": "stream",
     "text": [
      "1 bad epochs dropped\n",
      "✅ Saved epochs: /home/min/Desktop/eegllm/RawEEG_Updated/processed_epochs/eeg11_epo.fif\n",
      "\n",
      "Processing file: eeg7.fif\n",
      "Opening raw data file /home/min/Desktop/eegllm/RawEEG_Updated/updated_annotations_with_d/eeg7.fif...\n",
      "Isotrak not found\n",
      "    Range : 0 ... 233855 =      0.000 ...  3653.984 secs\n",
      "Ready.\n",
      "Reading 0 ... 233855  =      0.000 ...  3653.984 secs...\n",
      "Used Annotations descriptions: [np.str_('D'), np.str_('NS'), np.str_('S')]\n",
      "Not setting metadata\n",
      "3655 matching events found\n",
      "No baseline correction applied\n",
      "0 projection items activated\n",
      "Using data from preloaded Raw for 3655 events and 64 original time points ...\n"
     ]
    },
    {
     "name": "stderr",
     "output_type": "stream",
     "text": [
      "/tmp/ipykernel_265/201679259.py:24: RuntimeWarning: This filename (/home/min/Desktop/eegllm/RawEEG_Updated/updated_annotations_with_d/eeg7.fif) does not conform to MNE naming conventions. All raw files should end with raw.fif, raw_sss.fif, raw_tsss.fif, _meg.fif, _eeg.fif, _ieeg.fif, raw.fif.gz, raw_sss.fif.gz, raw_tsss.fif.gz, _meg.fif.gz, _eeg.fif.gz or _ieeg.fif.gz\n",
      "  raw = mne.io.read_raw_fif(raw_filepath, preload=True)\n"
     ]
    },
    {
     "name": "stdout",
     "output_type": "stream",
     "text": [
      "1 bad epochs dropped\n",
      "✅ Saved epochs: /home/min/Desktop/eegllm/RawEEG_Updated/processed_epochs/eeg7_epo.fif\n",
      "\n",
      "Processing file: eeg39.fif\n",
      "Opening raw data file /home/min/Desktop/eegllm/RawEEG_Updated/updated_annotations_with_d/eeg39.fif...\n",
      "Isotrak not found\n",
      "    Range : 0 ... 296255 =      0.000 ...  4628.984 secs\n",
      "Ready.\n",
      "Reading 0 ... 296255  =      0.000 ...  4628.984 secs...\n",
      "Used Annotations descriptions: [np.str_('D'), np.str_('NS'), np.str_('S')]\n",
      "Not setting metadata\n",
      "4630 matching events found\n",
      "No baseline correction applied\n",
      "0 projection items activated\n",
      "Using data from preloaded Raw for 4630 events and 64 original time points ...\n"
     ]
    },
    {
     "name": "stderr",
     "output_type": "stream",
     "text": [
      "/tmp/ipykernel_265/201679259.py:24: RuntimeWarning: This filename (/home/min/Desktop/eegllm/RawEEG_Updated/updated_annotations_with_d/eeg39.fif) does not conform to MNE naming conventions. All raw files should end with raw.fif, raw_sss.fif, raw_tsss.fif, _meg.fif, _eeg.fif, _ieeg.fif, raw.fif.gz, raw_sss.fif.gz, raw_tsss.fif.gz, _meg.fif.gz, _eeg.fif.gz or _ieeg.fif.gz\n",
      "  raw = mne.io.read_raw_fif(raw_filepath, preload=True)\n"
     ]
    },
    {
     "name": "stdout",
     "output_type": "stream",
     "text": [
      "1 bad epochs dropped\n",
      "✅ Saved epochs: /home/min/Desktop/eegllm/RawEEG_Updated/processed_epochs/eeg39_epo.fif\n",
      "\n",
      "Processing file: eeg17.fif\n",
      "Opening raw data file /home/min/Desktop/eegllm/RawEEG_Updated/updated_annotations_with_d/eeg17.fif...\n",
      "Isotrak not found\n",
      "    Range : 0 ... 351551 =      0.000 ...  5492.984 secs\n",
      "Ready.\n",
      "Reading 0 ... 351551  =      0.000 ...  5492.984 secs...\n",
      "Used Annotations descriptions: [np.str_('D'), np.str_('NS'), np.str_('S')]\n",
      "Not setting metadata\n",
      "5494 matching events found\n",
      "No baseline correction applied\n",
      "0 projection items activated\n",
      "Using data from preloaded Raw for 5494 events and 64 original time points ...\n"
     ]
    },
    {
     "name": "stderr",
     "output_type": "stream",
     "text": [
      "/tmp/ipykernel_265/201679259.py:24: RuntimeWarning: This filename (/home/min/Desktop/eegllm/RawEEG_Updated/updated_annotations_with_d/eeg17.fif) does not conform to MNE naming conventions. All raw files should end with raw.fif, raw_sss.fif, raw_tsss.fif, _meg.fif, _eeg.fif, _ieeg.fif, raw.fif.gz, raw_sss.fif.gz, raw_tsss.fif.gz, _meg.fif.gz, _eeg.fif.gz or _ieeg.fif.gz\n",
      "  raw = mne.io.read_raw_fif(raw_filepath, preload=True)\n"
     ]
    },
    {
     "name": "stdout",
     "output_type": "stream",
     "text": [
      "1 bad epochs dropped\n",
      "✅ Saved epochs: /home/min/Desktop/eegllm/RawEEG_Updated/processed_epochs/eeg17_epo.fif\n",
      "\n",
      "Processing file: eeg78.fif\n",
      "Opening raw data file /home/min/Desktop/eegllm/RawEEG_Updated/updated_annotations_with_d/eeg78.fif...\n",
      "Isotrak not found\n",
      "    Range : 0 ... 318143 =      0.000 ...  4970.984 secs\n",
      "Ready.\n",
      "Reading 0 ... 318143  =      0.000 ...  4970.984 secs...\n",
      "Used Annotations descriptions: [np.str_('D'), np.str_('NS'), np.str_('S')]\n",
      "Not setting metadata\n",
      "4972 matching events found\n",
      "No baseline correction applied\n",
      "0 projection items activated\n",
      "Using data from preloaded Raw for 4972 events and 64 original time points ...\n"
     ]
    },
    {
     "name": "stderr",
     "output_type": "stream",
     "text": [
      "/tmp/ipykernel_265/201679259.py:24: RuntimeWarning: This filename (/home/min/Desktop/eegllm/RawEEG_Updated/updated_annotations_with_d/eeg78.fif) does not conform to MNE naming conventions. All raw files should end with raw.fif, raw_sss.fif, raw_tsss.fif, _meg.fif, _eeg.fif, _ieeg.fif, raw.fif.gz, raw_sss.fif.gz, raw_tsss.fif.gz, _meg.fif.gz, _eeg.fif.gz or _ieeg.fif.gz\n",
      "  raw = mne.io.read_raw_fif(raw_filepath, preload=True)\n"
     ]
    },
    {
     "name": "stdout",
     "output_type": "stream",
     "text": [
      "1 bad epochs dropped\n",
      "✅ Saved epochs: /home/min/Desktop/eegllm/RawEEG_Updated/processed_epochs/eeg78_epo.fif\n",
      "\n",
      "Processing file: eeg66.fif\n",
      "Opening raw data file /home/min/Desktop/eegllm/RawEEG_Updated/updated_annotations_with_d/eeg66.fif...\n",
      "Isotrak not found\n",
      "    Range : 0 ... 726399 =      0.000 ... 11349.984 secs\n",
      "Ready.\n",
      "Reading 0 ... 726399  =      0.000 ... 11349.984 secs...\n"
     ]
    },
    {
     "name": "stderr",
     "output_type": "stream",
     "text": [
      "/tmp/ipykernel_265/201679259.py:24: RuntimeWarning: This filename (/home/min/Desktop/eegllm/RawEEG_Updated/updated_annotations_with_d/eeg66.fif) does not conform to MNE naming conventions. All raw files should end with raw.fif, raw_sss.fif, raw_tsss.fif, _meg.fif, _eeg.fif, _ieeg.fif, raw.fif.gz, raw_sss.fif.gz, raw_tsss.fif.gz, _meg.fif.gz, _eeg.fif.gz or _ieeg.fif.gz\n",
      "  raw = mne.io.read_raw_fif(raw_filepath, preload=True)\n"
     ]
    },
    {
     "name": "stdout",
     "output_type": "stream",
     "text": [
      "Used Annotations descriptions: [np.str_('D'), np.str_('NS'), np.str_('S')]\n",
      "Not setting metadata\n",
      "11351 matching events found\n",
      "No baseline correction applied\n",
      "0 projection items activated\n",
      "Using data from preloaded Raw for 11351 events and 64 original time points ...\n",
      "1 bad epochs dropped\n",
      "✅ Saved epochs: /home/min/Desktop/eegllm/RawEEG_Updated/processed_epochs/eeg66_epo.fif\n",
      "\n",
      "Processing file: eeg20.fif\n",
      "Opening raw data file /home/min/Desktop/eegllm/RawEEG_Updated/updated_annotations_with_d/eeg20.fif...\n",
      "Isotrak not found\n",
      "    Range : 0 ... 255167 =      0.000 ...  3986.984 secs\n",
      "Ready.\n",
      "Reading 0 ... 255167  =      0.000 ...  3986.984 secs...\n",
      "Used Annotations descriptions: [np.str_('D'), np.str_('NS'), np.str_('S')]\n",
      "Not setting metadata\n",
      "3988 matching events found\n",
      "No baseline correction applied\n",
      "0 projection items activated\n",
      "Using data from preloaded Raw for 3988 events and 64 original time points ...\n"
     ]
    },
    {
     "name": "stderr",
     "output_type": "stream",
     "text": [
      "/tmp/ipykernel_265/201679259.py:24: RuntimeWarning: This filename (/home/min/Desktop/eegllm/RawEEG_Updated/updated_annotations_with_d/eeg20.fif) does not conform to MNE naming conventions. All raw files should end with raw.fif, raw_sss.fif, raw_tsss.fif, _meg.fif, _eeg.fif, _ieeg.fif, raw.fif.gz, raw_sss.fif.gz, raw_tsss.fif.gz, _meg.fif.gz, _eeg.fif.gz or _ieeg.fif.gz\n",
      "  raw = mne.io.read_raw_fif(raw_filepath, preload=True)\n"
     ]
    },
    {
     "name": "stdout",
     "output_type": "stream",
     "text": [
      "1 bad epochs dropped\n",
      "✅ Saved epochs: /home/min/Desktop/eegllm/RawEEG_Updated/processed_epochs/eeg20_epo.fif\n",
      "\n",
      "Processing file: eeg75.fif\n",
      "Opening raw data file /home/min/Desktop/eegllm/RawEEG_Updated/updated_annotations_with_d/eeg75.fif...\n",
      "Isotrak not found\n",
      "    Range : 0 ... 253119 =      0.000 ...  3954.984 secs\n",
      "Ready.\n",
      "Reading 0 ... 253119  =      0.000 ...  3954.984 secs...\n",
      "Used Annotations descriptions: [np.str_('D'), np.str_('NS'), np.str_('S')]\n",
      "Not setting metadata\n",
      "3956 matching events found\n",
      "No baseline correction applied\n",
      "0 projection items activated\n",
      "Using data from preloaded Raw for 3956 events and 64 original time points ...\n"
     ]
    },
    {
     "name": "stderr",
     "output_type": "stream",
     "text": [
      "/tmp/ipykernel_265/201679259.py:24: RuntimeWarning: This filename (/home/min/Desktop/eegllm/RawEEG_Updated/updated_annotations_with_d/eeg75.fif) does not conform to MNE naming conventions. All raw files should end with raw.fif, raw_sss.fif, raw_tsss.fif, _meg.fif, _eeg.fif, _ieeg.fif, raw.fif.gz, raw_sss.fif.gz, raw_tsss.fif.gz, _meg.fif.gz, _eeg.fif.gz or _ieeg.fif.gz\n",
      "  raw = mne.io.read_raw_fif(raw_filepath, preload=True)\n"
     ]
    },
    {
     "name": "stdout",
     "output_type": "stream",
     "text": [
      "1 bad epochs dropped\n",
      "✅ Saved epochs: /home/min/Desktop/eegllm/RawEEG_Updated/processed_epochs/eeg75_epo.fif\n",
      "\n",
      "Processing file: eeg15.fif\n",
      "Opening raw data file /home/min/Desktop/eegllm/RawEEG_Updated/updated_annotations_with_d/eeg15.fif...\n",
      "Isotrak not found\n",
      "    Range : 0 ... 441471 =      0.000 ...  6897.984 secs\n",
      "Ready.\n",
      "Reading 0 ... 441471  =      0.000 ...  6897.984 secs...\n",
      "Used Annotations descriptions: [np.str_('D'), np.str_('NS'), np.str_('S')]\n",
      "Not setting metadata\n",
      "6899 matching events found\n",
      "No baseline correction applied\n",
      "0 projection items activated\n",
      "Using data from preloaded Raw for 6899 events and 64 original time points ...\n"
     ]
    },
    {
     "name": "stderr",
     "output_type": "stream",
     "text": [
      "/tmp/ipykernel_265/201679259.py:24: RuntimeWarning: This filename (/home/min/Desktop/eegllm/RawEEG_Updated/updated_annotations_with_d/eeg15.fif) does not conform to MNE naming conventions. All raw files should end with raw.fif, raw_sss.fif, raw_tsss.fif, _meg.fif, _eeg.fif, _ieeg.fif, raw.fif.gz, raw_sss.fif.gz, raw_tsss.fif.gz, _meg.fif.gz, _eeg.fif.gz or _ieeg.fif.gz\n",
      "  raw = mne.io.read_raw_fif(raw_filepath, preload=True)\n"
     ]
    },
    {
     "name": "stdout",
     "output_type": "stream",
     "text": [
      "1 bad epochs dropped\n",
      "✅ Saved epochs: /home/min/Desktop/eegllm/RawEEG_Updated/processed_epochs/eeg15_epo.fif\n",
      "\n",
      "Processing file: eeg41.fif\n",
      "Opening raw data file /home/min/Desktop/eegllm/RawEEG_Updated/updated_annotations_with_d/eeg41.fif...\n",
      "Isotrak not found\n",
      "    Range : 0 ... 619775 =      0.000 ...  9683.984 secs\n",
      "Ready.\n",
      "Reading 0 ... 619775  =      0.000 ...  9683.984 secs...\n"
     ]
    },
    {
     "name": "stderr",
     "output_type": "stream",
     "text": [
      "/tmp/ipykernel_265/201679259.py:24: RuntimeWarning: This filename (/home/min/Desktop/eegllm/RawEEG_Updated/updated_annotations_with_d/eeg41.fif) does not conform to MNE naming conventions. All raw files should end with raw.fif, raw_sss.fif, raw_tsss.fif, _meg.fif, _eeg.fif, _ieeg.fif, raw.fif.gz, raw_sss.fif.gz, raw_tsss.fif.gz, _meg.fif.gz, _eeg.fif.gz or _ieeg.fif.gz\n",
      "  raw = mne.io.read_raw_fif(raw_filepath, preload=True)\n"
     ]
    },
    {
     "name": "stdout",
     "output_type": "stream",
     "text": [
      "Used Annotations descriptions: [np.str_('D'), np.str_('NS'), np.str_('S')]\n",
      "Not setting metadata\n",
      "9685 matching events found\n",
      "No baseline correction applied\n",
      "0 projection items activated\n",
      "Using data from preloaded Raw for 9685 events and 64 original time points ...\n",
      "1 bad epochs dropped\n",
      "✅ Saved epochs: /home/min/Desktop/eegllm/RawEEG_Updated/processed_epochs/eeg41_epo.fif\n",
      "\n",
      "Processing file: eeg1.fif\n",
      "Opening raw data file /home/min/Desktop/eegllm/RawEEG_Updated/updated_annotations_with_d/eeg1.fif...\n",
      "Isotrak not found\n",
      "    Range : 0 ... 447551 =      0.000 ...  6992.984 secs\n",
      "Ready.\n",
      "Reading 0 ... 447551  =      0.000 ...  6992.984 secs...\n",
      "Used Annotations descriptions: [np.str_('D'), np.str_('NS'), np.str_('S')]\n",
      "Not setting metadata\n",
      "6994 matching events found\n",
      "No baseline correction applied\n",
      "0 projection items activated\n",
      "Using data from preloaded Raw for 6994 events and 64 original time points ...\n"
     ]
    },
    {
     "name": "stderr",
     "output_type": "stream",
     "text": [
      "/tmp/ipykernel_265/201679259.py:24: RuntimeWarning: This filename (/home/min/Desktop/eegllm/RawEEG_Updated/updated_annotations_with_d/eeg1.fif) does not conform to MNE naming conventions. All raw files should end with raw.fif, raw_sss.fif, raw_tsss.fif, _meg.fif, _eeg.fif, _ieeg.fif, raw.fif.gz, raw_sss.fif.gz, raw_tsss.fif.gz, _meg.fif.gz, _eeg.fif.gz or _ieeg.fif.gz\n",
      "  raw = mne.io.read_raw_fif(raw_filepath, preload=True)\n"
     ]
    },
    {
     "name": "stdout",
     "output_type": "stream",
     "text": [
      "1 bad epochs dropped\n",
      "✅ Saved epochs: /home/min/Desktop/eegllm/RawEEG_Updated/processed_epochs/eeg1_epo.fif\n",
      "\n",
      "Processing file: eeg50.fif\n",
      "Opening raw data file /home/min/Desktop/eegllm/RawEEG_Updated/updated_annotations_with_d/eeg50.fif...\n",
      "Isotrak not found\n",
      "    Range : 0 ... 630399 =      0.000 ...  9849.984 secs\n",
      "Ready.\n",
      "Reading 0 ... 630399  =      0.000 ...  9849.984 secs...\n",
      "Used Annotations descriptions: [np.str_('D'), np.str_('NS'), np.str_('S')]\n"
     ]
    },
    {
     "name": "stderr",
     "output_type": "stream",
     "text": [
      "/tmp/ipykernel_265/201679259.py:24: RuntimeWarning: This filename (/home/min/Desktop/eegllm/RawEEG_Updated/updated_annotations_with_d/eeg50.fif) does not conform to MNE naming conventions. All raw files should end with raw.fif, raw_sss.fif, raw_tsss.fif, _meg.fif, _eeg.fif, _ieeg.fif, raw.fif.gz, raw_sss.fif.gz, raw_tsss.fif.gz, _meg.fif.gz, _eeg.fif.gz or _ieeg.fif.gz\n",
      "  raw = mne.io.read_raw_fif(raw_filepath, preload=True)\n"
     ]
    },
    {
     "name": "stdout",
     "output_type": "stream",
     "text": [
      "Not setting metadata\n",
      "9851 matching events found\n",
      "No baseline correction applied\n",
      "0 projection items activated\n",
      "Using data from preloaded Raw for 9851 events and 64 original time points ...\n",
      "1 bad epochs dropped\n",
      "✅ Saved epochs: /home/min/Desktop/eegllm/RawEEG_Updated/processed_epochs/eeg50_epo.fif\n",
      "\n",
      "Processing file: eeg22.fif\n",
      "Opening raw data file /home/min/Desktop/eegllm/RawEEG_Updated/updated_annotations_with_d/eeg22.fif...\n",
      "Isotrak not found\n",
      "    Range : 0 ... 246015 =      0.000 ...  3843.984 secs\n",
      "Ready.\n",
      "Reading 0 ... 246015  =      0.000 ...  3843.984 secs...\n",
      "Used Annotations descriptions: [np.str_('D'), np.str_('NS'), np.str_('S')]\n",
      "Not setting metadata\n",
      "3845 matching events found\n",
      "No baseline correction applied\n",
      "0 projection items activated\n",
      "Using data from preloaded Raw for 3845 events and 64 original time points ...\n"
     ]
    },
    {
     "name": "stderr",
     "output_type": "stream",
     "text": [
      "/tmp/ipykernel_265/201679259.py:24: RuntimeWarning: This filename (/home/min/Desktop/eegllm/RawEEG_Updated/updated_annotations_with_d/eeg22.fif) does not conform to MNE naming conventions. All raw files should end with raw.fif, raw_sss.fif, raw_tsss.fif, _meg.fif, _eeg.fif, _ieeg.fif, raw.fif.gz, raw_sss.fif.gz, raw_tsss.fif.gz, _meg.fif.gz, _eeg.fif.gz or _ieeg.fif.gz\n",
      "  raw = mne.io.read_raw_fif(raw_filepath, preload=True)\n"
     ]
    },
    {
     "name": "stdout",
     "output_type": "stream",
     "text": [
      "1 bad epochs dropped\n",
      "✅ Saved epochs: /home/min/Desktop/eegllm/RawEEG_Updated/processed_epochs/eeg22_epo.fif\n",
      "\n",
      "Processing file: eeg16.fif\n",
      "Opening raw data file /home/min/Desktop/eegllm/RawEEG_Updated/updated_annotations_with_d/eeg16.fif...\n",
      "Isotrak not found\n",
      "    Range : 0 ... 380223 =      0.000 ...  5940.984 secs\n",
      "Ready.\n",
      "Reading 0 ... 380223  =      0.000 ...  5940.984 secs...\n",
      "Used Annotations descriptions: [np.str_('D'), np.str_('NS'), np.str_('S')]\n",
      "Not setting metadata\n",
      "5942 matching events found\n",
      "No baseline correction applied\n",
      "0 projection items activated\n",
      "Using data from preloaded Raw for 5942 events and 64 original time points ...\n"
     ]
    },
    {
     "name": "stderr",
     "output_type": "stream",
     "text": [
      "/tmp/ipykernel_265/201679259.py:24: RuntimeWarning: This filename (/home/min/Desktop/eegllm/RawEEG_Updated/updated_annotations_with_d/eeg16.fif) does not conform to MNE naming conventions. All raw files should end with raw.fif, raw_sss.fif, raw_tsss.fif, _meg.fif, _eeg.fif, _ieeg.fif, raw.fif.gz, raw_sss.fif.gz, raw_tsss.fif.gz, _meg.fif.gz, _eeg.fif.gz or _ieeg.fif.gz\n",
      "  raw = mne.io.read_raw_fif(raw_filepath, preload=True)\n"
     ]
    },
    {
     "name": "stdout",
     "output_type": "stream",
     "text": [
      "1 bad epochs dropped\n",
      "✅ Saved epochs: /home/min/Desktop/eegllm/RawEEG_Updated/processed_epochs/eeg16_epo.fif\n",
      "\n",
      "Processing file: eeg44.fif\n",
      "Opening raw data file /home/min/Desktop/eegllm/RawEEG_Updated/updated_annotations_with_d/eeg44.fif...\n",
      "Isotrak not found\n",
      "    Range : 0 ... 215039 =      0.000 ...  3359.984 secs\n",
      "Ready.\n",
      "Reading 0 ... 215039  =      0.000 ...  3359.984 secs...\n",
      "Used Annotations descriptions: [np.str_('D'), np.str_('NS'), np.str_('S')]\n",
      "Not setting metadata\n",
      "3361 matching events found\n",
      "No baseline correction applied\n",
      "0 projection items activated\n",
      "Using data from preloaded Raw for 3361 events and 64 original time points ...\n",
      "1 bad epochs dropped\n"
     ]
    },
    {
     "name": "stderr",
     "output_type": "stream",
     "text": [
      "/tmp/ipykernel_265/201679259.py:24: RuntimeWarning: This filename (/home/min/Desktop/eegllm/RawEEG_Updated/updated_annotations_with_d/eeg44.fif) does not conform to MNE naming conventions. All raw files should end with raw.fif, raw_sss.fif, raw_tsss.fif, _meg.fif, _eeg.fif, _ieeg.fif, raw.fif.gz, raw_sss.fif.gz, raw_tsss.fif.gz, _meg.fif.gz, _eeg.fif.gz or _ieeg.fif.gz\n",
      "  raw = mne.io.read_raw_fif(raw_filepath, preload=True)\n"
     ]
    },
    {
     "name": "stdout",
     "output_type": "stream",
     "text": [
      "✅ Saved epochs: /home/min/Desktop/eegllm/RawEEG_Updated/processed_epochs/eeg44_epo.fif\n",
      "\n",
      "Processing file: eeg52.fif\n",
      "Opening raw data file /home/min/Desktop/eegllm/RawEEG_Updated/updated_annotations_with_d/eeg52.fif...\n",
      "Isotrak not found\n",
      "    Range : 0 ... 250879 =      0.000 ...  3919.984 secs\n",
      "Ready.\n",
      "Reading 0 ... 250879  =      0.000 ...  3919.984 secs...\n",
      "Used Annotations descriptions: [np.str_('D'), np.str_('NS'), np.str_('S')]\n",
      "Not setting metadata\n",
      "3921 matching events found\n",
      "No baseline correction applied\n",
      "0 projection items activated\n",
      "Using data from preloaded Raw for 3921 events and 64 original time points ...\n"
     ]
    },
    {
     "name": "stderr",
     "output_type": "stream",
     "text": [
      "/tmp/ipykernel_265/201679259.py:24: RuntimeWarning: This filename (/home/min/Desktop/eegllm/RawEEG_Updated/updated_annotations_with_d/eeg52.fif) does not conform to MNE naming conventions. All raw files should end with raw.fif, raw_sss.fif, raw_tsss.fif, _meg.fif, _eeg.fif, _ieeg.fif, raw.fif.gz, raw_sss.fif.gz, raw_tsss.fif.gz, _meg.fif.gz, _eeg.fif.gz or _ieeg.fif.gz\n",
      "  raw = mne.io.read_raw_fif(raw_filepath, preload=True)\n"
     ]
    },
    {
     "name": "stdout",
     "output_type": "stream",
     "text": [
      "1 bad epochs dropped\n",
      "✅ Saved epochs: /home/min/Desktop/eegllm/RawEEG_Updated/processed_epochs/eeg52_epo.fif\n",
      "\n",
      "Processing file: eeg62.fif\n",
      "Opening raw data file /home/min/Desktop/eegllm/RawEEG_Updated/updated_annotations_with_d/eeg62.fif...\n",
      "Isotrak not found\n",
      "    Range : 0 ... 374527 =      0.000 ...  5851.984 secs\n",
      "Ready.\n",
      "Reading 0 ... 374527  =      0.000 ...  5851.984 secs...\n",
      "Used Annotations descriptions: [np.str_('D'), np.str_('NS'), np.str_('S')]\n",
      "Not setting metadata\n",
      "5853 matching events found\n",
      "No baseline correction applied\n",
      "0 projection items activated\n",
      "Using data from preloaded Raw for 5853 events and 64 original time points ...\n"
     ]
    },
    {
     "name": "stderr",
     "output_type": "stream",
     "text": [
      "/tmp/ipykernel_265/201679259.py:24: RuntimeWarning: This filename (/home/min/Desktop/eegllm/RawEEG_Updated/updated_annotations_with_d/eeg62.fif) does not conform to MNE naming conventions. All raw files should end with raw.fif, raw_sss.fif, raw_tsss.fif, _meg.fif, _eeg.fif, _ieeg.fif, raw.fif.gz, raw_sss.fif.gz, raw_tsss.fif.gz, _meg.fif.gz, _eeg.fif.gz or _ieeg.fif.gz\n",
      "  raw = mne.io.read_raw_fif(raw_filepath, preload=True)\n"
     ]
    },
    {
     "name": "stdout",
     "output_type": "stream",
     "text": [
      "1 bad epochs dropped\n",
      "✅ Saved epochs: /home/min/Desktop/eegllm/RawEEG_Updated/processed_epochs/eeg62_epo.fif\n",
      "\n",
      "Processing file: eeg5.fif\n",
      "Opening raw data file /home/min/Desktop/eegllm/RawEEG_Updated/updated_annotations_with_d/eeg5.fif...\n",
      "Isotrak not found\n",
      "    Range : 0 ... 245823 =      0.000 ...  3840.984 secs\n",
      "Ready.\n",
      "Reading 0 ... 245823  =      0.000 ...  3840.984 secs...\n",
      "Used Annotations descriptions: [np.str_('D'), np.str_('NS'), np.str_('S')]\n",
      "Not setting metadata\n",
      "3842 matching events found\n",
      "No baseline correction applied\n",
      "0 projection items activated\n",
      "Using data from preloaded Raw for 3842 events and 64 original time points ...\n"
     ]
    },
    {
     "name": "stderr",
     "output_type": "stream",
     "text": [
      "/tmp/ipykernel_265/201679259.py:24: RuntimeWarning: This filename (/home/min/Desktop/eegllm/RawEEG_Updated/updated_annotations_with_d/eeg5.fif) does not conform to MNE naming conventions. All raw files should end with raw.fif, raw_sss.fif, raw_tsss.fif, _meg.fif, _eeg.fif, _ieeg.fif, raw.fif.gz, raw_sss.fif.gz, raw_tsss.fif.gz, _meg.fif.gz, _eeg.fif.gz or _ieeg.fif.gz\n",
      "  raw = mne.io.read_raw_fif(raw_filepath, preload=True)\n"
     ]
    },
    {
     "name": "stdout",
     "output_type": "stream",
     "text": [
      "1 bad epochs dropped\n",
      "✅ Saved epochs: /home/min/Desktop/eegllm/RawEEG_Updated/processed_epochs/eeg5_epo.fif\n",
      "\n",
      "Processing file: eeg36.fif\n",
      "Opening raw data file /home/min/Desktop/eegllm/RawEEG_Updated/updated_annotations_with_d/eeg36.fif...\n",
      "Isotrak not found\n",
      "    Range : 0 ... 325247 =      0.000 ...  5081.984 secs\n",
      "Ready.\n",
      "Reading 0 ... 325247  =      0.000 ...  5081.984 secs...\n",
      "Used Annotations descriptions: [np.str_('D'), np.str_('NS'), np.str_('S')]\n",
      "Not setting metadata\n",
      "5083 matching events found\n",
      "No baseline correction applied\n",
      "0 projection items activated\n",
      "Using data from preloaded Raw for 5083 events and 64 original time points ...\n"
     ]
    },
    {
     "name": "stderr",
     "output_type": "stream",
     "text": [
      "/tmp/ipykernel_265/201679259.py:24: RuntimeWarning: This filename (/home/min/Desktop/eegllm/RawEEG_Updated/updated_annotations_with_d/eeg36.fif) does not conform to MNE naming conventions. All raw files should end with raw.fif, raw_sss.fif, raw_tsss.fif, _meg.fif, _eeg.fif, _ieeg.fif, raw.fif.gz, raw_sss.fif.gz, raw_tsss.fif.gz, _meg.fif.gz, _eeg.fif.gz or _ieeg.fif.gz\n",
      "  raw = mne.io.read_raw_fif(raw_filepath, preload=True)\n"
     ]
    },
    {
     "name": "stdout",
     "output_type": "stream",
     "text": [
      "1 bad epochs dropped\n",
      "✅ Saved epochs: /home/min/Desktop/eegllm/RawEEG_Updated/processed_epochs/eeg36_epo.fif\n",
      "\n",
      "Processing file: eeg47.fif\n",
      "Opening raw data file /home/min/Desktop/eegllm/RawEEG_Updated/updated_annotations_with_d/eeg47.fif...\n",
      "Isotrak not found\n",
      "    Range : 0 ... 230783 =      0.000 ...  3605.984 secs\n",
      "Ready.\n",
      "Reading 0 ... 230783  =      0.000 ...  3605.984 secs...\n",
      "Used Annotations descriptions: [np.str_('D'), np.str_('NS'), np.str_('S')]\n",
      "Not setting metadata\n",
      "3607 matching events found\n",
      "No baseline correction applied\n",
      "0 projection items activated\n",
      "Using data from preloaded Raw for 3607 events and 64 original time points ...\n"
     ]
    },
    {
     "name": "stderr",
     "output_type": "stream",
     "text": [
      "/tmp/ipykernel_265/201679259.py:24: RuntimeWarning: This filename (/home/min/Desktop/eegllm/RawEEG_Updated/updated_annotations_with_d/eeg47.fif) does not conform to MNE naming conventions. All raw files should end with raw.fif, raw_sss.fif, raw_tsss.fif, _meg.fif, _eeg.fif, _ieeg.fif, raw.fif.gz, raw_sss.fif.gz, raw_tsss.fif.gz, _meg.fif.gz, _eeg.fif.gz or _ieeg.fif.gz\n",
      "  raw = mne.io.read_raw_fif(raw_filepath, preload=True)\n"
     ]
    },
    {
     "name": "stdout",
     "output_type": "stream",
     "text": [
      "1 bad epochs dropped\n",
      "✅ Saved epochs: /home/min/Desktop/eegllm/RawEEG_Updated/processed_epochs/eeg47_epo.fif\n",
      "\n",
      "Processing file: eeg79.fif\n",
      "Opening raw data file /home/min/Desktop/eegllm/RawEEG_Updated/updated_annotations_with_d/eeg79.fif...\n",
      "Isotrak not found\n",
      "    Range : 0 ... 211007 =      0.000 ...  3296.984 secs\n",
      "Ready.\n",
      "Reading 0 ... 211007  =      0.000 ...  3296.984 secs...\n",
      "Used Annotations descriptions: [np.str_('D'), np.str_('NS'), np.str_('S')]\n",
      "Not setting metadata\n",
      "3298 matching events found\n",
      "No baseline correction applied\n",
      "0 projection items activated\n",
      "Using data from preloaded Raw for 3298 events and 64 original time points ...\n",
      "1 bad epochs dropped\n"
     ]
    },
    {
     "name": "stderr",
     "output_type": "stream",
     "text": [
      "/tmp/ipykernel_265/201679259.py:24: RuntimeWarning: This filename (/home/min/Desktop/eegllm/RawEEG_Updated/updated_annotations_with_d/eeg79.fif) does not conform to MNE naming conventions. All raw files should end with raw.fif, raw_sss.fif, raw_tsss.fif, _meg.fif, _eeg.fif, _ieeg.fif, raw.fif.gz, raw_sss.fif.gz, raw_tsss.fif.gz, _meg.fif.gz, _eeg.fif.gz or _ieeg.fif.gz\n",
      "  raw = mne.io.read_raw_fif(raw_filepath, preload=True)\n"
     ]
    },
    {
     "name": "stdout",
     "output_type": "stream",
     "text": [
      "✅ Saved epochs: /home/min/Desktop/eegllm/RawEEG_Updated/processed_epochs/eeg79_epo.fif\n",
      "\n",
      "Processing file: eeg77.fif\n",
      "Opening raw data file /home/min/Desktop/eegllm/RawEEG_Updated/updated_annotations_with_d/eeg77.fif...\n",
      "Isotrak not found\n",
      "    Range : 0 ... 268351 =      0.000 ...  4192.984 secs\n",
      "Ready.\n",
      "Reading 0 ... 268351  =      0.000 ...  4192.984 secs...\n",
      "Used Annotations descriptions: [np.str_('D'), np.str_('NS'), np.str_('S')]\n",
      "Not setting metadata\n",
      "4194 matching events found\n",
      "No baseline correction applied\n",
      "0 projection items activated\n",
      "Using data from preloaded Raw for 4194 events and 64 original time points ...\n"
     ]
    },
    {
     "name": "stderr",
     "output_type": "stream",
     "text": [
      "/tmp/ipykernel_265/201679259.py:24: RuntimeWarning: This filename (/home/min/Desktop/eegllm/RawEEG_Updated/updated_annotations_with_d/eeg77.fif) does not conform to MNE naming conventions. All raw files should end with raw.fif, raw_sss.fif, raw_tsss.fif, _meg.fif, _eeg.fif, _ieeg.fif, raw.fif.gz, raw_sss.fif.gz, raw_tsss.fif.gz, _meg.fif.gz, _eeg.fif.gz or _ieeg.fif.gz\n",
      "  raw = mne.io.read_raw_fif(raw_filepath, preload=True)\n"
     ]
    },
    {
     "name": "stdout",
     "output_type": "stream",
     "text": [
      "1 bad epochs dropped\n",
      "✅ Saved epochs: /home/min/Desktop/eegllm/RawEEG_Updated/processed_epochs/eeg77_epo.fif\n",
      "\n",
      "Processing file: eeg63.fif\n",
      "Opening raw data file /home/min/Desktop/eegllm/RawEEG_Updated/updated_annotations_with_d/eeg63.fif...\n",
      "Isotrak not found\n",
      "    Range : 0 ... 249599 =      0.000 ...  3899.984 secs\n",
      "Ready.\n",
      "Reading 0 ... 249599  =      0.000 ...  3899.984 secs...\n",
      "Used Annotations descriptions: [np.str_('D'), np.str_('NS'), np.str_('S')]\n",
      "Not setting metadata\n",
      "3901 matching events found\n",
      "No baseline correction applied\n",
      "0 projection items activated\n",
      "Using data from preloaded Raw for 3901 events and 64 original time points ...\n"
     ]
    },
    {
     "name": "stderr",
     "output_type": "stream",
     "text": [
      "/tmp/ipykernel_265/201679259.py:24: RuntimeWarning: This filename (/home/min/Desktop/eegllm/RawEEG_Updated/updated_annotations_with_d/eeg63.fif) does not conform to MNE naming conventions. All raw files should end with raw.fif, raw_sss.fif, raw_tsss.fif, _meg.fif, _eeg.fif, _ieeg.fif, raw.fif.gz, raw_sss.fif.gz, raw_tsss.fif.gz, _meg.fif.gz, _eeg.fif.gz or _ieeg.fif.gz\n",
      "  raw = mne.io.read_raw_fif(raw_filepath, preload=True)\n"
     ]
    },
    {
     "name": "stdout",
     "output_type": "stream",
     "text": [
      "1 bad epochs dropped\n",
      "✅ Saved epochs: /home/min/Desktop/eegllm/RawEEG_Updated/processed_epochs/eeg63_epo.fif\n",
      "\n",
      "Processing file: eeg38.fif\n",
      "Opening raw data file /home/min/Desktop/eegllm/RawEEG_Updated/updated_annotations_with_d/eeg38.fif...\n",
      "Isotrak not found\n",
      "    Range : 0 ... 390079 =      0.000 ...  6094.984 secs\n",
      "Ready.\n",
      "Reading 0 ... 390079  =      0.000 ...  6094.984 secs...\n",
      "Used Annotations descriptions: [np.str_('D'), np.str_('NS'), np.str_('S')]\n",
      "Not setting metadata\n",
      "6096 matching events found\n",
      "No baseline correction applied\n",
      "0 projection items activated\n",
      "Using data from preloaded Raw for 6096 events and 64 original time points ...\n"
     ]
    },
    {
     "name": "stderr",
     "output_type": "stream",
     "text": [
      "/tmp/ipykernel_265/201679259.py:24: RuntimeWarning: This filename (/home/min/Desktop/eegllm/RawEEG_Updated/updated_annotations_with_d/eeg38.fif) does not conform to MNE naming conventions. All raw files should end with raw.fif, raw_sss.fif, raw_tsss.fif, _meg.fif, _eeg.fif, _ieeg.fif, raw.fif.gz, raw_sss.fif.gz, raw_tsss.fif.gz, _meg.fif.gz, _eeg.fif.gz or _ieeg.fif.gz\n",
      "  raw = mne.io.read_raw_fif(raw_filepath, preload=True)\n"
     ]
    },
    {
     "name": "stdout",
     "output_type": "stream",
     "text": [
      "1 bad epochs dropped\n",
      "✅ Saved epochs: /home/min/Desktop/eegllm/RawEEG_Updated/processed_epochs/eeg38_epo.fif\n",
      "\n",
      "Processing file: eeg13.fif\n",
      "Opening raw data file /home/min/Desktop/eegllm/RawEEG_Updated/updated_annotations_with_d/eeg13.fif...\n",
      "Isotrak not found\n",
      "    Range : 0 ... 986623 =      0.000 ... 15415.984 secs\n",
      "Ready.\n",
      "Reading 0 ... 986623  =      0.000 ... 15415.984 secs...\n"
     ]
    },
    {
     "name": "stderr",
     "output_type": "stream",
     "text": [
      "/tmp/ipykernel_265/201679259.py:24: RuntimeWarning: This filename (/home/min/Desktop/eegllm/RawEEG_Updated/updated_annotations_with_d/eeg13.fif) does not conform to MNE naming conventions. All raw files should end with raw.fif, raw_sss.fif, raw_tsss.fif, _meg.fif, _eeg.fif, _ieeg.fif, raw.fif.gz, raw_sss.fif.gz, raw_tsss.fif.gz, _meg.fif.gz, _eeg.fif.gz or _ieeg.fif.gz\n",
      "  raw = mne.io.read_raw_fif(raw_filepath, preload=True)\n"
     ]
    },
    {
     "name": "stdout",
     "output_type": "stream",
     "text": [
      "Used Annotations descriptions: [np.str_('D'), np.str_('NS'), np.str_('S')]\n",
      "Not setting metadata\n",
      "15416 matching events found\n",
      "No baseline correction applied\n",
      "0 projection items activated\n",
      "Using data from preloaded Raw for 15416 events and 64 original time points ...\n",
      "0 bad epochs dropped\n",
      "✅ Saved epochs: /home/min/Desktop/eegllm/RawEEG_Updated/processed_epochs/eeg13_epo.fif\n",
      "\n",
      "Processing file: eeg67.fif\n",
      "Opening raw data file /home/min/Desktop/eegllm/RawEEG_Updated/updated_annotations_with_d/eeg67.fif...\n",
      "Isotrak not found\n",
      "    Range : 0 ... 313599 =      0.000 ...  4899.984 secs\n",
      "Ready.\n",
      "Reading 0 ... 313599  =      0.000 ...  4899.984 secs...\n",
      "Used Annotations descriptions: [np.str_('D'), np.str_('NS'), np.str_('S')]\n",
      "Not setting metadata\n",
      "4901 matching events found\n",
      "No baseline correction applied\n",
      "0 projection items activated\n",
      "Using data from preloaded Raw for 4901 events and 64 original time points ...\n"
     ]
    },
    {
     "name": "stderr",
     "output_type": "stream",
     "text": [
      "/tmp/ipykernel_265/201679259.py:24: RuntimeWarning: This filename (/home/min/Desktop/eegllm/RawEEG_Updated/updated_annotations_with_d/eeg67.fif) does not conform to MNE naming conventions. All raw files should end with raw.fif, raw_sss.fif, raw_tsss.fif, _meg.fif, _eeg.fif, _ieeg.fif, raw.fif.gz, raw_sss.fif.gz, raw_tsss.fif.gz, _meg.fif.gz, _eeg.fif.gz or _ieeg.fif.gz\n",
      "  raw = mne.io.read_raw_fif(raw_filepath, preload=True)\n"
     ]
    },
    {
     "name": "stdout",
     "output_type": "stream",
     "text": [
      "1 bad epochs dropped\n",
      "✅ Saved epochs: /home/min/Desktop/eegllm/RawEEG_Updated/processed_epochs/eeg67_epo.fif\n",
      "\n",
      "Processing file: eeg76.fif\n",
      "Opening raw data file /home/min/Desktop/eegllm/RawEEG_Updated/updated_annotations_with_d/eeg76.fif...\n",
      "Isotrak not found\n",
      "    Range : 0 ... 244543 =      0.000 ...  3820.984 secs\n",
      "Ready.\n",
      "Reading 0 ... 244543  =      0.000 ...  3820.984 secs...\n",
      "Used Annotations descriptions: [np.str_('D'), np.str_('NS'), np.str_('S')]\n",
      "Not setting metadata\n",
      "3822 matching events found\n",
      "No baseline correction applied\n",
      "0 projection items activated\n",
      "Using data from preloaded Raw for 3822 events and 64 original time points ...\n"
     ]
    },
    {
     "name": "stderr",
     "output_type": "stream",
     "text": [
      "/tmp/ipykernel_265/201679259.py:24: RuntimeWarning: This filename (/home/min/Desktop/eegllm/RawEEG_Updated/updated_annotations_with_d/eeg76.fif) does not conform to MNE naming conventions. All raw files should end with raw.fif, raw_sss.fif, raw_tsss.fif, _meg.fif, _eeg.fif, _ieeg.fif, raw.fif.gz, raw_sss.fif.gz, raw_tsss.fif.gz, _meg.fif.gz, _eeg.fif.gz or _ieeg.fif.gz\n",
      "  raw = mne.io.read_raw_fif(raw_filepath, preload=True)\n"
     ]
    },
    {
     "name": "stdout",
     "output_type": "stream",
     "text": [
      "1 bad epochs dropped\n",
      "✅ Saved epochs: /home/min/Desktop/eegllm/RawEEG_Updated/processed_epochs/eeg76_epo.fif\n",
      "\n",
      "Processing file: eeg34.fif\n",
      "Opening raw data file /home/min/Desktop/eegllm/RawEEG_Updated/updated_annotations_with_d/eeg34.fif...\n",
      "Isotrak not found\n",
      "    Range : 0 ... 415423 =      0.000 ...  6490.984 secs\n",
      "Ready.\n",
      "Reading 0 ... 415423  =      0.000 ...  6490.984 secs...\n",
      "Used Annotations descriptions: [np.str_('D'), np.str_('NS'), np.str_('S')]\n",
      "Not setting metadata\n",
      "6492 matching events found\n",
      "No baseline correction applied\n",
      "0 projection items activated\n",
      "Using data from preloaded Raw for 6492 events and 64 original time points ...\n"
     ]
    },
    {
     "name": "stderr",
     "output_type": "stream",
     "text": [
      "/tmp/ipykernel_265/201679259.py:24: RuntimeWarning: This filename (/home/min/Desktop/eegllm/RawEEG_Updated/updated_annotations_with_d/eeg34.fif) does not conform to MNE naming conventions. All raw files should end with raw.fif, raw_sss.fif, raw_tsss.fif, _meg.fif, _eeg.fif, _ieeg.fif, raw.fif.gz, raw_sss.fif.gz, raw_tsss.fif.gz, _meg.fif.gz, _eeg.fif.gz or _ieeg.fif.gz\n",
      "  raw = mne.io.read_raw_fif(raw_filepath, preload=True)\n"
     ]
    },
    {
     "name": "stdout",
     "output_type": "stream",
     "text": [
      "1 bad epochs dropped\n",
      "✅ Saved epochs: /home/min/Desktop/eegllm/RawEEG_Updated/processed_epochs/eeg34_epo.fif\n",
      "\n",
      "Processing file: eeg21.fif\n",
      "Opening raw data file /home/min/Desktop/eegllm/RawEEG_Updated/updated_annotations_with_d/eeg21.fif...\n",
      "Isotrak not found\n",
      "    Range : 0 ... 365247 =      0.000 ...  5706.984 secs\n",
      "Ready.\n",
      "Reading 0 ... 365247  =      0.000 ...  5706.984 secs...\n",
      "Used Annotations descriptions: [np.str_('D'), np.str_('NS'), np.str_('S')]\n",
      "Not setting metadata\n",
      "5708 matching events found\n",
      "No baseline correction applied\n",
      "0 projection items activated\n",
      "Using data from preloaded Raw for 5708 events and 64 original time points ...\n"
     ]
    },
    {
     "name": "stderr",
     "output_type": "stream",
     "text": [
      "/tmp/ipykernel_265/201679259.py:24: RuntimeWarning: This filename (/home/min/Desktop/eegllm/RawEEG_Updated/updated_annotations_with_d/eeg21.fif) does not conform to MNE naming conventions. All raw files should end with raw.fif, raw_sss.fif, raw_tsss.fif, _meg.fif, _eeg.fif, _ieeg.fif, raw.fif.gz, raw_sss.fif.gz, raw_tsss.fif.gz, _meg.fif.gz, _eeg.fif.gz or _ieeg.fif.gz\n",
      "  raw = mne.io.read_raw_fif(raw_filepath, preload=True)\n"
     ]
    },
    {
     "name": "stdout",
     "output_type": "stream",
     "text": [
      "1 bad epochs dropped\n",
      "✅ Saved epochs: /home/min/Desktop/eegllm/RawEEG_Updated/processed_epochs/eeg21_epo.fif\n",
      "\n",
      "Processing file: eeg40.fif\n",
      "Opening raw data file /home/min/Desktop/eegllm/RawEEG_Updated/updated_annotations_with_d/eeg40.fif...\n",
      "Isotrak not found\n",
      "    Range : 0 ... 373567 =      0.000 ...  5836.984 secs\n",
      "Ready.\n",
      "Reading 0 ... 373567  =      0.000 ...  5836.984 secs...\n",
      "Used Annotations descriptions: [np.str_('D'), np.str_('NS'), np.str_('S')]\n",
      "Not setting metadata\n",
      "5838 matching events found\n",
      "No baseline correction applied\n",
      "0 projection items activated\n",
      "Using data from preloaded Raw for 5838 events and 64 original time points ...\n"
     ]
    },
    {
     "name": "stderr",
     "output_type": "stream",
     "text": [
      "/tmp/ipykernel_265/201679259.py:24: RuntimeWarning: This filename (/home/min/Desktop/eegllm/RawEEG_Updated/updated_annotations_with_d/eeg40.fif) does not conform to MNE naming conventions. All raw files should end with raw.fif, raw_sss.fif, raw_tsss.fif, _meg.fif, _eeg.fif, _ieeg.fif, raw.fif.gz, raw_sss.fif.gz, raw_tsss.fif.gz, _meg.fif.gz, _eeg.fif.gz or _ieeg.fif.gz\n",
      "  raw = mne.io.read_raw_fif(raw_filepath, preload=True)\n"
     ]
    },
    {
     "name": "stdout",
     "output_type": "stream",
     "text": [
      "1 bad epochs dropped\n",
      "✅ Saved epochs: /home/min/Desktop/eegllm/RawEEG_Updated/processed_epochs/eeg40_epo.fif\n",
      "\n",
      "Processing file: eeg69.fif\n",
      "Opening raw data file /home/min/Desktop/eegllm/RawEEG_Updated/updated_annotations_with_d/eeg69.fif...\n",
      "Isotrak not found\n",
      "    Range : 0 ... 254271 =      0.000 ...  3972.984 secs\n",
      "Ready.\n",
      "Reading 0 ... 254271  =      0.000 ...  3972.984 secs...\n",
      "Used Annotations descriptions: [np.str_('D'), np.str_('NS'), np.str_('S')]\n",
      "Not setting metadata\n",
      "3974 matching events found\n",
      "No baseline correction applied\n",
      "0 projection items activated\n",
      "Using data from preloaded Raw for 3974 events and 64 original time points ...\n"
     ]
    },
    {
     "name": "stderr",
     "output_type": "stream",
     "text": [
      "/tmp/ipykernel_265/201679259.py:24: RuntimeWarning: This filename (/home/min/Desktop/eegllm/RawEEG_Updated/updated_annotations_with_d/eeg69.fif) does not conform to MNE naming conventions. All raw files should end with raw.fif, raw_sss.fif, raw_tsss.fif, _meg.fif, _eeg.fif, _ieeg.fif, raw.fif.gz, raw_sss.fif.gz, raw_tsss.fif.gz, _meg.fif.gz, _eeg.fif.gz or _ieeg.fif.gz\n",
      "  raw = mne.io.read_raw_fif(raw_filepath, preload=True)\n"
     ]
    },
    {
     "name": "stdout",
     "output_type": "stream",
     "text": [
      "1 bad epochs dropped\n",
      "✅ Saved epochs: /home/min/Desktop/eegllm/RawEEG_Updated/processed_epochs/eeg69_epo.fif\n",
      "\n",
      "Processing file: eeg31.fif\n",
      "Opening raw data file /home/min/Desktop/eegllm/RawEEG_Updated/updated_annotations_with_d/eeg31.fif...\n",
      "Isotrak not found\n",
      "    Range : 0 ... 225855 =      0.000 ...  3528.984 secs\n",
      "Ready.\n",
      "Reading 0 ... 225855  =      0.000 ...  3528.984 secs...\n",
      "Used Annotations descriptions: [np.str_('D'), np.str_('NS'), np.str_('S')]\n",
      "Not setting metadata\n",
      "3530 matching events found\n",
      "No baseline correction applied\n",
      "0 projection items activated\n",
      "Using data from preloaded Raw for 3530 events and 64 original time points ...\n",
      "1 bad epochs dropped\n"
     ]
    },
    {
     "name": "stderr",
     "output_type": "stream",
     "text": [
      "/tmp/ipykernel_265/201679259.py:24: RuntimeWarning: This filename (/home/min/Desktop/eegllm/RawEEG_Updated/updated_annotations_with_d/eeg31.fif) does not conform to MNE naming conventions. All raw files should end with raw.fif, raw_sss.fif, raw_tsss.fif, _meg.fif, _eeg.fif, _ieeg.fif, raw.fif.gz, raw_sss.fif.gz, raw_tsss.fif.gz, _meg.fif.gz, _eeg.fif.gz or _ieeg.fif.gz\n",
      "  raw = mne.io.read_raw_fif(raw_filepath, preload=True)\n"
     ]
    },
    {
     "name": "stdout",
     "output_type": "stream",
     "text": [
      "✅ Saved epochs: /home/min/Desktop/eegllm/RawEEG_Updated/processed_epochs/eeg31_epo.fif\n",
      "\n"
     ]
    }
   ],
   "source": [
    "create_epochs_from_folder(\"/home/min/Desktop/eegllm/RawEEG_Updated/updated_annotations_with_d\", \n",
    "                          save_folder=\"/home/min/Desktop/eegllm/RawEEG_Updated/processed_epochs\")"
   ]
  },
  {
   "cell_type": "code",
   "execution_count": 4,
   "metadata": {},
   "outputs": [
    {
     "name": "stdout",
     "output_type": "stream",
     "text": [
      "Reading /home/min/Desktop/eegllm/RawEEG_Updated/processed_epochs/eeg51_epo.fif ...\n",
      "Isotrak not found\n",
      "    Found the data of interest:\n",
      "        t =       0.00 ...     984.38 ms\n",
      "        0 CTF compensation matrices available\n",
      "Not setting metadata\n",
      "4701 matching events found\n",
      "No baseline correction applied\n",
      "0 projection items activated\n"
     ]
    }
   ],
   "source": [
    "# # raw.set_montage(\"standard_1020\") \n",
    "# raw_clean, ica = apply_ica(raw, exclude_manual=[0, 1])  # or None\n",
    "epochs = load_epochs(\"/home/min/Desktop/eegllm/RawEEG_Updated/processed_epochs/eeg51_epo.fif\")\n",
    "# epochs.plot();"
   ]
  },
  {
   "cell_type": "code",
   "execution_count": 5,
   "metadata": {},
   "outputs": [
    {
     "name": "stdout",
     "output_type": "stream",
     "text": [
      "Shape of data: (4701, 18, 64)\n",
      "Unique labels: [1 2 3]\n"
     ]
    }
   ],
   "source": [
    "# Filter to all labeled epochs\n",
    "data, labels = filter_epochs(epochs, keep_labels=['S', 'NS', 'D'])\n",
    "print(\"Shape of data:\", data.shape)\n",
    "print(\"Unique labels:\", np.unique(labels))"
   ]
  },
  {
   "cell_type": "code",
   "execution_count": 6,
   "metadata": {},
   "outputs": [
    {
     "name": "stdout",
     "output_type": "stream",
     "text": [
      "Shape of data: (4423, 18, 64)\n",
      "Unique labels: [1 2]\n"
     ]
    }
   ],
   "source": [
    "# Filter to keep only 'S' and 'NS' labeled epochs\n",
    "data, labels = filter_epochs(epochs, keep_labels=['S', 'NS'])\n",
    "print(\"Shape of data:\", data.shape)\n",
    "print(\"Unique labels:\", np.unique(labels))"
   ]
  },
  {
   "cell_type": "code",
   "execution_count": 7,
   "metadata": {},
   "outputs": [
    {
     "name": "stdout",
     "output_type": "stream",
     "text": [
      "Label ID 1: 290 epochs\n",
      "Label ID 2: 4133 epochs\n"
     ]
    }
   ],
   "source": [
    "def count_lables(labels):\n",
    "    # Assuming `labels` is a 1D NumPy array of event IDs\n",
    "    unique_labels, counts = np.unique(labels, return_counts=True)\n",
    "\n",
    "    # Print counts\n",
    "    for label, count in zip(unique_labels, counts):\n",
    "        print(f\"Label ID {label}: {count} epochs\")\n",
    "\n",
    "count_lables(labels)"
   ]
  },
  {
   "cell_type": "code",
   "execution_count": null,
   "metadata": {},
   "outputs": [],
   "source": []
  }
 ],
 "metadata": {
  "kernelspec": {
   "display_name": "Python 3 (ipykernel)",
   "language": "python",
   "name": "python3"
  },
  "language_info": {
   "codemirror_mode": {
    "name": "ipython",
    "version": 3
   },
   "file_extension": ".py",
   "mimetype": "text/x-python",
   "name": "python",
   "nbconvert_exporter": "python",
   "pygments_lexer": "ipython3",
   "version": "3.12.9"
  }
 },
 "nbformat": 4,
 "nbformat_minor": 4
}
