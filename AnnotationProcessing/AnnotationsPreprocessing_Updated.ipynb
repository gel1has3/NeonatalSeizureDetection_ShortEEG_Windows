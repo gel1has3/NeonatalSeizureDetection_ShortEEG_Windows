{
 "cells": [
  {
   "cell_type": "markdown",
   "metadata": {},
   "source": [
    "### Automated Detection and Extraction of Seizure Events from Expert EEG Annotation\n",
    "s\n",
    "This code is useful for preparing structured seizure event datasets from raw annotation files, facilitating downstream EEG analysis, such as model training or clinical review. The approach ensures seizure timing is accurately mapped to EEG samples and maintains flexibility to incorporate annotations from multiple experts. The code processes EEG seizure annotation data, primarily focusing on detecting seizure segments from expert-labeled datasets (specifically \"CSA\" expert annotations). It uses **Pandas** for data manipulation and reads annotation CSV files containing per-second seizure indicators for multiple patients.\n",
    "\n",
    "#### Key Functionalities:\n",
    "\n",
    "1. **Data Loading and Preparation:**\n",
    "\n",
    "   * Imports necessary libraries for data handling (`pandas`, `numpy`), EEG processing (`mne`), and visualization (`matplotlib`).\n",
    "   * Reads seizure annotation CSV files, replacing missing values with zeros.\n",
    "   * The data is organized as columns representing individual patients with per-second seizure labels (binary or character-coded).\n",
    "\n",
    "2. **Seizure Detection Functions (`find_seizures` and `find_seizures_d`):**\n",
    "\n",
    "   * These functions scan through the annotation arrays to detect continuous seizure periods based on the presence of seizure labels (either binary `1` or character `'d'`).\n",
    "   * For each detected seizure segment, the code computes:\n",
    "\n",
    "     * Duration in seconds,\n",
    "     * Start and end times (in seconds and samples, assuming a sampling rate of 256 Hz),\n",
    "     * The corresponding patient and expert source.\n",
    "   * The functions output seizure segments as a DataFrame for further analysis or saving.\n",
    "\n",
    "3. **Data Processing Pipeline:**\n",
    "\n",
    "   * Iterates over provided data arrays (here only CSA expert data is processed).\n",
    "   * Aggregates seizure segments from all patients into a single DataFrame.\n",
    "   * Saves the detected seizure chunks into CSV files for external use or later analysis.\n",
    "   * Displays the final seizure summary DataFrames.\n",
    "\n"
   ]
  },
  {
   "cell_type": "code",
   "execution_count": null,
   "metadata": {},
   "outputs": [],
   "source": [
    "import pandas as pd\n",
    "import os\n",
    "import h5py\n",
    "import mne\n",
    "import pandas as pd\n",
    "import numpy as np\n",
    "import glob\n",
    "from pathlib import Path\n",
    "import matplotlib.pyplot as plt\n",
    "import re\n",
    "from scipy import signal\n",
    "import scipy.io\n",
    "from mne import Epochs\n",
    "from mne.preprocessing import ICA  # Import ICA here"
   ]
  },
  {
   "cell_type": "markdown",
   "metadata": {},
   "source": [
    "## Updated AnnotationsPreprocessing"
   ]
  },
  {
   "cell_type": "code",
   "execution_count": null,
   "metadata": {},
   "outputs": [],
   "source": [
    "csa = pd.read_csv(\"/Users/geletawsahle/Desktop/mlflow_eeg/scripts/CSA.csv\")\n",
    "# data = [Exp_A_data, Exp_A_data, Exp_A_data]\n",
    "csa = csa.fillna(0.0)\n",
    "csa.head(2)\n",
    "csa.head(2)"
   ]
  },
  {
   "cell_type": "code",
   "execution_count": null,
   "metadata": {},
   "outputs": [],
   "source": [
    "data = [csa]\n",
    "csa"
   ]
  },
  {
   "cell_type": "code",
   "execution_count": 14,
   "metadata": {},
   "outputs": [],
   "source": [
    "def find_seizures(expert, data):\n",
    "    \"\"\"\n",
    "    A function to find the seizure chunks from the annotations of expert A, B, C as well as CSA\n",
    "    \"\"\"\n",
    "    seizures = pd.DataFrame(columns=[\"expert\", \"infant\", \"seizure_duration\", \"from_sec\", \"to_sec\", \"from_sample\", \"to_sample\"])\n",
    "    \n",
    "    for patient in data.columns:  # Loop through each patient column\n",
    "        patient_data = data[patient]\n",
    "        # Convert patient_data to numeric and ensure it's a pandas Series\n",
    "        patient_data = pd.to_numeric(pd.Series(patient_data), errors='coerce')\n",
    "        seizure_start = None\n",
    "        \n",
    "        for i in range(len(patient_data)):\n",
    "            if patient_data[i] == 1 and seizure_start is None:\n",
    "                seizure_start = i\n",
    "            elif patient_data[i] == 0 and seizure_start is not None:\n",
    "                seizure_end = i - 1\n",
    "                duration = seizure_end - seizure_start + 1\n",
    "                \n",
    "                new_seizure = pd.DataFrame({\n",
    "                    \"expert\": [expert],\n",
    "                    \"infant\": [patient],\n",
    "                    \"seizure_duration\": [duration],\n",
    "                    \"from_sec\": [seizure_start],  # Start from raw 0\n",
    "                    \"to_sec\": [seizure_end],\n",
    "                    \"from_sample\": [(seizure_start * 256)],   # Start from sample 0\n",
    "                    \"to_sample\": [((seizure_end + 1) * 256)]  # +1 to include the last full second\n",
    "                })\n",
    "                \n",
    "                seizures = pd.concat([seizures, new_seizure], ignore_index=True)\n",
    "                seizure_start = None\n",
    "        \n",
    "        # Check if seizure continues to the end of the recording\n",
    "        if seizure_start is not None:\n",
    "            seizure_end = len(patient_data) - 1\n",
    "            duration = seizure_end - seizure_start + 1\n",
    "            \n",
    "            new_seizure = pd.DataFrame({\n",
    "                \"expert\": [expert],\n",
    "                \"infant\": [patient],\n",
    "                \"seizure_duration\": [duration],\n",
    "                \"from_sec\": [seizure_start],\n",
    "                \"to_sec\": [seizure_end],\n",
    "                \"from_sample\": [(seizure_start * 256)],\n",
    "                \"to_sample\": [((seizure_end + 1) * 256)]\n",
    "            })\n",
    "            \n",
    "            seizures = pd.concat([seizures, new_seizure], ignore_index=True)\n",
    "    \n",
    "    return seizures"
   ]
  },
  {
   "cell_type": "code",
   "execution_count": null,
   "metadata": {},
   "outputs": [],
   "source": [
    "# Loop through the data assuming zero-based indexing (already is)\n",
    "for i in range(0, len(data)):\n",
    "    if i == 0:\n",
    "        expert = \"CSA\"\n",
    "        seizures_df_expert_CSA = find_seizures(expert, data[i])\n",
    "    # Uncomment and update the following if needed for other experts\n",
    "    # elif i == 1:\n",
    "    #     expert = \"A\"\n",
    "    #     seizures_df_expert_A = find_seizures(expert, data[i])\n",
    "    # elif i == 2:\n",
    "    #     expert = \"B\"\n",
    "    #     seizures_df_expert_B = find_seizures(expert, data[i])\n",
    "    # elif i == 3:\n",
    "    #     expert = \"C\"\n",
    "    #     seizures_df_expert_C = find_seizures(expert, data[i])\n",
    "\n",
    "# Collect the seizure DataFrames into a list\n",
    "dfs = [seizures_df_expert_CSA]  # Add others here if uncommented\n",
    "\n",
    "# Concatenate the DataFrames vertically into one final DataFrame\n",
    "seizures_df = pd.concat(dfs, axis=0, ignore_index=True)\n",
    "\n",
    "# Save to CSV\n",
    "seizures_df.to_csv(\"csa_seizures_chunks_zerosec_starts.csv\", index=False)\n",
    "\n",
    "# Display the final DataFrame\n",
    "seizures_df"
   ]
  },
  {
   "cell_type": "code",
   "execution_count": null,
   "metadata": {},
   "outputs": [],
   "source": [
    "updated = pd.read_csv(\"csa_seizures_chunks_zerosec_starts.csv\")\n",
    "updated"
   ]
  },
  {
   "cell_type": "markdown",
   "metadata": {},
   "source": [
    "## Annotation differences"
   ]
  },
  {
   "cell_type": "code",
   "execution_count": null,
   "metadata": {},
   "outputs": [],
   "source": [
    "csad = pd.read_csv(\"/Users/geletawsahle/Desktop/mlflow_eeg/scripts/xd.csv\")\n",
    "csad.head(2)"
   ]
  },
  {
   "cell_type": "code",
   "execution_count": null,
   "metadata": {},
   "outputs": [],
   "source": [
    "csad = csad.fillna(0.0)\n",
    "csad"
   ]
  },
  {
   "cell_type": "code",
   "execution_count": 15,
   "metadata": {},
   "outputs": [],
   "source": [
    "def find_seizures_d(expert, data):\n",
    "    \"\"\"\n",
    "    A function to find the seizure chunks from the annotations of expert A, B, C as well as CSA.\n",
    "    Zero-based indexing: 0 sec corresponds to the first second.\n",
    "    \"\"\"\n",
    "    seizures = pd.DataFrame(columns=['Expert', 'Id', 'seizure_duration', 'from_sec', 'to_sec', 'from_sample', 'to_sample', 'status'])\n",
    "    \n",
    "    for patient in data.columns:  # Loop through each patient column\n",
    "        patient_data = data[patient]\n",
    "        patient_data = pd.Series(patient_data).astype(str)\n",
    "        seizure_start = None\n",
    "        \n",
    "        for i in range(len(patient_data)):\n",
    "            if patient_data[i].strip() == 'd' and seizure_start is None:\n",
    "                seizure_start = i\n",
    "            elif patient_data[i].strip() != 'd' and seizure_start is not None:\n",
    "                seizure_end = i - 1\n",
    "                duration = seizure_end - seizure_start + 1\n",
    "                \n",
    "                new_seizure = pd.DataFrame({\n",
    "                    \"Expert\": [expert],\n",
    "                    \"Id\": [patient],\n",
    "                    \"status\": ['d'],\n",
    "                    \"seizure_duration\": [duration],\n",
    "                    \"from_sec\": [seizure_start],             # Now starts from 0\n",
    "                    \"to_sec\": [seizure_end],                 # Ends at current second\n",
    "                    \"from_sample\": [seizure_start * 256],    # Sample starts at 0\n",
    "                    \"to_sample\": [(seizure_end + 1) * 256]    # Include full duration\n",
    "                })\n",
    "                \n",
    "                seizures = pd.concat([seizures, new_seizure], ignore_index=True)\n",
    "                seizure_start = None\n",
    "        \n",
    "        # If seizure continues to the end\n",
    "        if seizure_start is not None:\n",
    "            seizure_end = len(patient_data) - 1\n",
    "            duration = seizure_end - seizure_start + 1\n",
    "            \n",
    "            new_seizure = pd.DataFrame({\n",
    "                \"Expert\": [expert],\n",
    "                \"Id\": [patient],\n",
    "                \"status\": ['d'],\n",
    "                \"seizure_duration\": [duration],\n",
    "                \"from_sec\": [seizure_start],\n",
    "                \"to_sec\": [seizure_end],\n",
    "                \"from_sample\": [seizure_start * 256],\n",
    "                \"to_sample\": [(seizure_end + 1) * 256]\n",
    "            })\n",
    "            \n",
    "            seizures = pd.concat([seizures, new_seizure], ignore_index=True)\n",
    "    \n",
    "    return seizures\n"
   ]
  },
  {
   "cell_type": "code",
   "execution_count": 16,
   "metadata": {},
   "outputs": [],
   "source": [
    "data = [csad]"
   ]
  },
  {
   "cell_type": "code",
   "execution_count": null,
   "metadata": {},
   "outputs": [],
   "source": [
    "# Process data using updated 0-based logic\n",
    "for i in range(len(data)):\n",
    "    if i == 0:\n",
    "        expert = \"CSA\"\n",
    "        seizures_df_expert_CSA = find_seizures_d(expert, data[i])\n",
    "\n",
    "# Combine DataFrames\n",
    "dfs = [seizures_df_expert_CSA]\n",
    "seizures_dff = pd.concat(dfs, axis=0, ignore_index=True)\n",
    "\n",
    "# Save the updated dataset to CSV\n",
    "seizures_dff.to_csv(\"csa_seizures_chunks_with_d.csv\", index=False)\n",
    "\n",
    "# Display the final DataFrame\n",
    "seizures_dff"
   ]
  },
  {
   "cell_type": "code",
   "execution_count": null,
   "metadata": {},
   "outputs": [],
   "source": []
  },
  {
   "cell_type": "code",
   "execution_count": null,
   "metadata": {},
   "outputs": [],
   "source": []
  }
 ],
 "metadata": {
  "kernelspec": {
   "display_name": "base",
   "language": "python",
   "name": "python3"
  },
  "language_info": {
   "codemirror_mode": {
    "name": "ipython",
    "version": 3
   },
   "file_extension": ".py",
   "mimetype": "text/x-python",
   "name": "python",
   "nbconvert_exporter": "python",
   "pygments_lexer": "ipython3",
   "version": "3.12.2"
  }
 },
 "nbformat": 4,
 "nbformat_minor": 2
}
